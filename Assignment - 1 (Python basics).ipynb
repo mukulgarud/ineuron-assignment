{
 "cells": [
  {
   "cell_type": "raw",
   "id": "920aa7ee",
   "metadata": {},
   "source": [
    "Q1. In the below elements which of them are values or an expression? eg:- values can be integer or string and expressions will be mathematical operators.\n",
    "\n",
    "Ans:\n",
    "* : multpilication expression\n",
    "'hello' : string value\n",
    "-87.8 : float value \n",
    "- : subtraction expression \n",
    "/ : division expression\n",
    "+ : addition expression\n",
    "6 : int value\n"
   ]
  },
  {
   "cell_type": "raw",
   "id": "417b5111",
   "metadata": {},
   "source": [
    "Q2. What is the difference between string and variable?\n",
    "\n",
    "Ans:\n",
    "String :- It is one of the data types present inside python. String is a value which is made up of characters can be letters, numerical values, symbols, words or phrases. It can be anything present within single or double quotes. \n",
    "e.g a = 'sdfgadfg23543'\n",
    "\n",
    "Variable :- It is where we store values. There can be many types of value we can store inside the variable can be a integer, string, float, lsit,etc. In above example 'a' is a variable."
   ]
  },
  {
   "cell_type": "raw",
   "id": "939e77b7",
   "metadata": {},
   "source": [
    "Q3. Describe three different data types.\n",
    "\n",
    "Ans:\n",
    "1) Integer :- Int is the data type where values can be positive or negative whole numbers only.\n",
    "e.g i = 10\n",
    "2) Float :- Float is the data type where values can be positive or negative real numbers. Here each value is represented in decimal point.\n",
    "e.g f = 12.25\n",
    "3) Boolean :- Bool is the data type where values can be either True or False. Here True have value of 1 and false have value of 0.\n",
    "e.g b = True\n",
    "4) String :- Str is the data type where its value can be sequence of characters. Characters can be letters, numbers, special symbols, words or phrases, but it has to be inclosed inside single or double quotes.\n",
    "e.g s = 'mngsdgna3n32@mkvs'\n",
    "\n",
    "All data types have their own class in the python."
   ]
  },
  {
   "cell_type": "raw",
   "id": "44532c02",
   "metadata": {},
   "source": [
    "Q4. What is an expression made up of? What do all expressions do?\n",
    "\n",
    "Ans:\n",
    "Expression is made up of operators and variables or values. Expression produces value by doing some calculation it can be mathematical or not.\n",
    "e.g 1+2"
   ]
  },
  {
   "cell_type": "raw",
   "id": "8e9ee468",
   "metadata": {},
   "source": [
    "Q5. This assignment statements, like spam = 10. What is the difference between an expression and a statement?\n",
    "\n",
    "Ans:-\n",
    "Expression :- Expression is the combination of the variables or values and operators. This expressions are reduced to smaller once until it returns final value. Expression always returns value.\n",
    "e.g 2+3 is a expression which returns value 5.\n",
    "\n",
    "Statement :- Statement is basically an instruction or a command. Instruction or command that a python interpreter can execute is called as statement. Statement dosen't return a value. In spam = 10 statement, '=' is an assignment operator which is assigning value 10 to the variable 'spam'.\n",
    "e.g a = 2+3 is a statement which dosen't returns any value.\n"
   ]
  },
  {
   "cell_type": "raw",
   "id": "31b99721",
   "metadata": {},
   "source": [
    "Q6. After running the following code, what does the variable bacon contain?\n",
    "bacon = 22\n",
    "bacon + 1\n",
    "\n",
    "Ans:-\n",
    "bacon = 22, Variable 'bacon' still contains value 22 because when we are executing expression 'bacon + 1' we are not storing the result anywhere so, when we access 'bacon' again we still get value as 22.\n"
   ]
  },
  {
   "cell_type": "code",
   "execution_count": 8,
   "id": "1a8542fc",
   "metadata": {},
   "outputs": [
    {
     "data": {
      "text/plain": [
       "23"
      ]
     },
     "execution_count": 8,
     "metadata": {},
     "output_type": "execute_result"
    }
   ],
   "source": [
    "bacon = 22\n",
    "bacon + 1"
   ]
  },
  {
   "cell_type": "code",
   "execution_count": 9,
   "id": "c9b87a58",
   "metadata": {},
   "outputs": [
    {
     "data": {
      "text/plain": [
       "22"
      ]
     },
     "execution_count": 9,
     "metadata": {},
     "output_type": "execute_result"
    }
   ],
   "source": [
    "bacon\n"
   ]
  },
  {
   "cell_type": "raw",
   "id": "37921af4",
   "metadata": {},
   "source": [
    "Q7. What should the values of the following two terms be?\n",
    "'spam' + 'spamspam'\n",
    "'spam' * 3\n",
    "\n",
    "Ans:-\n",
    "Value of both terms will be same 'spamspamspam'.\n",
    "In first term we are concatenating two strings 'spam' and 'spamspam' using '+' operator.\n",
    "In second term we are just multiplying string 'spam' with 3 which means 'spam' will get repeated 3 times in output.\n",
    "\n"
   ]
  },
  {
   "cell_type": "code",
   "execution_count": 6,
   "id": "2e72a256",
   "metadata": {},
   "outputs": [
    {
     "data": {
      "text/plain": [
       "'spamspamspam'"
      ]
     },
     "execution_count": 6,
     "metadata": {},
     "output_type": "execute_result"
    }
   ],
   "source": [
    "'spam' + 'spamspam'"
   ]
  },
  {
   "cell_type": "code",
   "execution_count": 7,
   "id": "307a914e",
   "metadata": {},
   "outputs": [
    {
     "data": {
      "text/plain": [
       "'spamspamspam'"
      ]
     },
     "execution_count": 7,
     "metadata": {},
     "output_type": "execute_result"
    }
   ],
   "source": [
    "'spam' * 3"
   ]
  },
  {
   "cell_type": "raw",
   "id": "80877fe5",
   "metadata": {},
   "source": [
    "Q8. Why is eggs a valid variable name while 100 is invalid?\n",
    "\n",
    "Ans:-\n",
    "There are some rules defined by python for variable decleration such as:\n",
    "1) A variable name should start with a letter or the underscore character.\n",
    "2) Variable name cannot start with number. We can use numbers in between the variable name\n",
    "3) Unserscore is the only special symbol used in decleration.\n",
    "4) We must declare variable name before using it.\n",
    "5) Variables names are case sensetive.\n",
    "\n",
    "and in given question 'eggs' starts with letter so it is acceptable, but 100 is a number which is not acceptable by python."
   ]
  },
  {
   "cell_type": "raw",
   "id": "c9dba117",
   "metadata": {},
   "source": [
    "Q9. What three functions can be used to get the integer, floating-point number, or string version of a value?\n",
    "\n",
    "Ans:- \n",
    "We can use int(), float() and str() functions for getting integer, floating-point number and string version of a value respectively."
   ]
  },
  {
   "cell_type": "raw",
   "id": "0a48d79a",
   "metadata": {},
   "source": [
    "Q10. Why does this expression cause an error? How can you fix it?\n",
    "'I have eaten ' + 99 + ' burritos.'\n",
    "\n",
    "Ans:-\n",
    "Above expression will give 'TypeError: can only concatenate str (not \"int\") to str', because only values having same data type can be concatenated and in given expression 'I have eaten' and 'burritos' are string data type values but 99 is a integer data type value so they cannot be concatenation.\n",
    "\n",
    "solution: we have to pass value 99 to str() function which will convert integer value to string and then we can have output.\n"
   ]
  },
  {
   "cell_type": "code",
   "execution_count": 3,
   "id": "7a768a69",
   "metadata": {},
   "outputs": [
    {
     "ename": "TypeError",
     "evalue": "can only concatenate str (not \"int\") to str",
     "output_type": "error",
     "traceback": [
      "\u001b[1;31m---------------------------------------------------------------------------\u001b[0m",
      "\u001b[1;31mTypeError\u001b[0m                                 Traceback (most recent call last)",
      "Input \u001b[1;32mIn [3]\u001b[0m, in \u001b[0;36m<cell line: 1>\u001b[1;34m()\u001b[0m\n\u001b[1;32m----> 1\u001b[0m \u001b[38;5;124;43m'\u001b[39;49m\u001b[38;5;124;43mI have eaten \u001b[39;49m\u001b[38;5;124;43m'\u001b[39;49m\u001b[43m \u001b[49m\u001b[38;5;241;43m+\u001b[39;49m\u001b[43m \u001b[49m\u001b[38;5;241;43m99\u001b[39;49m \u001b[38;5;241m+\u001b[39m \u001b[38;5;124m'\u001b[39m\u001b[38;5;124m burritos.\u001b[39m\u001b[38;5;124m'\u001b[39m\n",
      "\u001b[1;31mTypeError\u001b[0m: can only concatenate str (not \"int\") to str"
     ]
    }
   ],
   "source": [
    "'I have eaten ' + 99 + ' burritos.'"
   ]
  },
  {
   "cell_type": "code",
   "execution_count": 4,
   "id": "42168b46",
   "metadata": {},
   "outputs": [
    {
     "data": {
      "text/plain": [
       "'I have eaten 99 burritos.'"
      ]
     },
     "execution_count": 4,
     "metadata": {},
     "output_type": "execute_result"
    }
   ],
   "source": [
    "'I have eaten ' + str(99) + ' burritos.'"
   ]
  }
 ],
 "metadata": {
  "kernelspec": {
   "display_name": "Python 3 (ipykernel)",
   "language": "python",
   "name": "python3"
  },
  "language_info": {
   "codemirror_mode": {
    "name": "ipython",
    "version": 3
   },
   "file_extension": ".py",
   "mimetype": "text/x-python",
   "name": "python",
   "nbconvert_exporter": "python",
   "pygments_lexer": "ipython3",
   "version": "3.9.12"
  }
 },
 "nbformat": 4,
 "nbformat_minor": 5
}
